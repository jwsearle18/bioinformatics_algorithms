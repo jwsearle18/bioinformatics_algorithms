{
 "cells": [
  {
   "cell_type": "code",
   "execution_count": 5,
   "metadata": {},
   "outputs": [
    {
     "name": "stdout",
     "output_type": "stream",
     "text": [
      "['GCAT', 'CATG']\n"
     ]
    }
   ],
   "source": [
    "def frequent_words(text: str, k: int) -> list[str]:\n",
    "    \n",
    "    def FrequencyTable(text: str, k: int) -> dict[str,int]:\n",
    "        freqMap = {}\n",
    "        n = len(text)\n",
    "        for i in range(n - k + 1):\n",
    "            pattern = text[i:i + k]\n",
    "            if pattern not in freqMap:\n",
    "                freqMap[pattern] = 1\n",
    "            else:\n",
    "                freqMap[pattern] += 1\n",
    "        return freqMap\n",
    "\n",
    "    frequentPatterns = []\n",
    "    freqMap = FrequencyTable(text, k)\n",
    "    max_value = max(freqMap.values())\n",
    "    mostFrequentPatterns = [key for key, value in freqMap.items() if value == max_value]\n",
    "    return mostFrequentPatterns\n",
    "\n",
    "\n",
    "text = 'ACGTTGCATGTCGCATGATGCATGAGAGCT'\n",
    "k = 4\n",
    "\n",
    "print(frequent_words(text, k))"
   ]
  },
  {
   "cell_type": "code",
   "execution_count": 8,
   "metadata": {},
   "outputs": [
    {
     "name": "stdout",
     "output_type": "stream",
     "text": [
      "ACCGGGTTTT\n"
     ]
    }
   ],
   "source": [
    "def reverse_complement(pattern: str) -> str:\n",
    "    complement = ''\n",
    "    for nuc in pattern:\n",
    "        if nuc == 'A':\n",
    "            complement += 'T'\n",
    "        elif nuc == 'T':\n",
    "            complement += 'A'\n",
    "        elif nuc == 'G':\n",
    "            complement += 'C'\n",
    "        elif nuc == 'C':\n",
    "            complement += 'G'\n",
    "        else:\n",
    "            print(\"Pattern must only contain 'A', 'T', 'G', or 'C'.\")\n",
    "            return\n",
    "    reverse_complement = complement[::-1]\n",
    "    return reverse_complement\n",
    "\n",
    "print(reverse_complement('AAAACCCGGT'))"
   ]
  },
  {
   "cell_type": "code",
   "execution_count": 9,
   "metadata": {},
   "outputs": [
    {
     "name": "stdout",
     "output_type": "stream",
     "text": [
      "[1, 3, 9]\n"
     ]
    }
   ],
   "source": [
    "def pattern_matching(pattern: str, genome: str) -> list[int]:\n",
    "    startPositions = []\n",
    "    pattern_length = len(pattern)\n",
    "    genome_length = len(genome)\n",
    "\n",
    "    for i in range(genome_length - pattern_length + 1):\n",
    "        if genome[i : i + pattern_length] == pattern:\n",
    "            startPositions.append(i)\n",
    "    return startPositions\n",
    "\n",
    "print(pattern_matching('ATAT', 'GATATATGCATATACTT'))"
   ]
  },
  {
   "cell_type": "code",
   "execution_count": 19,
   "metadata": {},
   "outputs": [
    {
     "name": "stdout",
     "output_type": "stream",
     "text": [
      "[11, 24]\n"
     ]
    }
   ],
   "source": [
    "def minimum_skew(genome: str) -> list[int]:\n",
    "    skew = [0]\n",
    "    for i in range(len(genome)):\n",
    "        if genome[i] == 'G':\n",
    "            skew.append(skew[i]+1)\n",
    "        elif genome[i] == 'C':\n",
    "            skew.append(skew[i]-1)\n",
    "        else:\n",
    "            skew.append(skew[i])\n",
    "    min_value = min(skew)\n",
    "    min_positions = []\n",
    "    for i in range(len(skew)):\n",
    "        if skew[i] == min_value:\n",
    "            min_positions.append(i)\n",
    "    return min_positions\n",
    "\n",
    "print(minimum_skew('TAAAGACTGCCGAGAGGCCAACACGAGTGCTAGAACGAGGGGCGTAAACGCGGGTCCGAT'))"
   ]
  },
  {
   "cell_type": "code",
   "execution_count": 20,
   "metadata": {},
   "outputs": [
    {
     "name": "stdout",
     "output_type": "stream",
     "text": [
      "28\n"
     ]
    }
   ],
   "source": [
    "def hamming_distance(p: str, q: str) -> int:\n",
    "    hdist = 0\n",
    "    for i in range(len(p)):\n",
    "        if p[i] != q[i]:\n",
    "            hdist += 1\n",
    "    return hdist\n",
    "\n",
    "p = 'AGAAACAGACCGCTATGTTCAACGATTTGTTTTATCTCGTCACCGGGATATTGCGGCCACTCATCGGTCAGTTGATTACGCAGGGCGTAAATCGCCAGAATCAGGCTG'\n",
    "q = 'AGAAACCCACCGCTAAAAACAACGATTTGCGTAGTCAGGTCACCGGGATATTGCGGCCACTAAGGCCTTGGATGATTACGCAGAACGTATTGACCCAGAATCAGGCTC'\n",
    "print(hamming_distance(p,q))"
   ]
  },
  {
   "cell_type": "code",
   "execution_count": 21,
   "metadata": {},
   "outputs": [
    {
     "name": "stdout",
     "output_type": "stream",
     "text": [
      "[6, 7, 26, 27]\n"
     ]
    }
   ],
   "source": [
    "def approximate_pattern_matching(pattern: str, text: str, d: int) -> list[int]:\n",
    "    startPositions = []\n",
    "    pattern_length = len(pattern)\n",
    "    text_length = len(text)\n",
    "\n",
    "    for i in range(text_length - pattern_length + 1):\n",
    "        if hamming_distance(text[i : i + pattern_length], pattern) <= d:\n",
    "            startPositions.append(i)\n",
    "    return startPositions\n",
    "\n",
    "pattern = 'ATTCTGGA'\n",
    "text = 'CGCCCGAATCCAGAACGCATTCCCATATTTCGGGACCACTGGCCTCCACGGTACGGACGTCAATCAAAT'\n",
    "d = 3\n",
    "print(approximate_pattern_matching(pattern,text,d))"
   ]
  },
  {
   "cell_type": "code",
   "execution_count": 23,
   "metadata": {},
   "outputs": [
    {
     "name": "stdout",
     "output_type": "stream",
     "text": [
      "4\n"
     ]
    }
   ],
   "source": [
    "def approximate_pattern_count(text: str, pattern: str, d: int) -> int:\n",
    "    return len(approximate_pattern_matching(pattern, text, d))\n",
    "\n",
    "pattern = 'GAGG'\n",
    "text = 'TTTAGAGCCTTCAGAGG'\n",
    "d = 2\n",
    "print(approximate_pattern_count(text,pattern,d))"
   ]
  },
  {
   "cell_type": "code",
   "execution_count": 25,
   "metadata": {},
   "outputs": [
    {
     "name": "stdout",
     "output_type": "stream",
     "text": [
      "{'ACG', 'AAG', 'ACC', 'ATG', 'GCG', 'TCG', 'ACA', 'ACT', 'AGG', 'CCG'}\n"
     ]
    }
   ],
   "source": [
    "def neighbors(s: str, d: int) -> list[str]:\n",
    "    nucleotides = {'A', 'T', 'C', 'G'}\n",
    "    neighborhood = set()\n",
    "    if d == 0:\n",
    "        neighborhood.add(s)\n",
    "        return neighborhood\n",
    "    if len(s) == 1:\n",
    "        neighborhood.update(['A', 'T', 'C', 'G'])\n",
    "        return neighborhood\n",
    "    suffixNeighbors = neighbors(s[1:], d)\n",
    "    for str in suffixNeighbors:\n",
    "        if hamming_distance(s[1:], str) < d:\n",
    "            for nuc in nucleotides:\n",
    "                neighborhood.add(nuc+str)\n",
    "        else:\n",
    "            neighborhood.add(s[0]+str)\n",
    "    return neighborhood\n",
    "\n",
    "print(neighbors(\"ACG\", 1))"
   ]
  },
  {
   "cell_type": "code",
   "execution_count": 28,
   "metadata": {},
   "outputs": [
    {
     "name": "stdout",
     "output_type": "stream",
     "text": [
      "['ATGT', 'GATG', 'ATGC']\n"
     ]
    }
   ],
   "source": [
    "def frequent_words_with_mismatches(text: str, k: int, d: int) -> list[str]:\n",
    "    patterns = []\n",
    "    freqMap = {}\n",
    "    n = len(text)\n",
    "    for i in range(n - k + 1):\n",
    "        pattern = text[i:i + k]\n",
    "        neighborhood = neighbors(pattern, d)\n",
    "        for neighbor in neighborhood:\n",
    "            if neighbor not in freqMap:\n",
    "                freqMap[neighbor] = 1\n",
    "            else:\n",
    "                freqMap[neighbor] += 1\n",
    "    m = max(freqMap.values())\n",
    "    for pat in freqMap:\n",
    "        if freqMap[pat] == m:\n",
    "            patterns.append(pat)\n",
    "    return patterns\n",
    "\n",
    "text = 'ACGTTGCATGTCGCATGATGCATGAGAGCT'\n",
    "k = 4\n",
    "d = 1\n",
    "print(frequent_words_with_mismatches(text, k, d))"
   ]
  },
  {
   "cell_type": "code",
   "execution_count": 30,
   "metadata": {},
   "outputs": [
    {
     "name": "stdout",
     "output_type": "stream",
     "text": [
      "['ACAT', 'ATGT']\n"
     ]
    }
   ],
   "source": [
    "def frequent_words_mismatches_reverse_complements(text: str, k: int, d: int) -> list[str]:\n",
    "    rc = reverse_complement(text)\n",
    "    patterns = []\n",
    "    freqMap = {}\n",
    "    for seq in [text, rc]:\n",
    "        n = len(seq)\n",
    "        for i in range(n - k + 1):\n",
    "            pattern = seq[i:i + k]\n",
    "            neighborhood = neighbors(pattern, d)\n",
    "            for neighbor in neighborhood:\n",
    "                if neighbor not in freqMap:\n",
    "                    freqMap[neighbor] = 1\n",
    "                else:\n",
    "                    freqMap[neighbor] += 1\n",
    "\n",
    "    m = max(freqMap.values())\n",
    "    for pat in freqMap:\n",
    "        if freqMap[pat] == m:\n",
    "            patterns.append(pat)\n",
    "    return patterns\n",
    "\n",
    "text = 'ACGTTGCATGTCGCATGATGCATGAGAGCT'\n",
    "k = 4\n",
    "d = 1\n",
    "print(frequent_words_mismatches_reverse_complements(text, k, d))"
   ]
  },
  {
   "cell_type": "code",
   "execution_count": null,
   "metadata": {},
   "outputs": [],
   "source": []
  }
 ],
 "metadata": {
  "kernelspec": {
   "display_name": "base",
   "language": "python",
   "name": "python3"
  },
  "language_info": {
   "codemirror_mode": {
    "name": "ipython",
    "version": 3
   },
   "file_extension": ".py",
   "mimetype": "text/x-python",
   "name": "python",
   "nbconvert_exporter": "python",
   "pygments_lexer": "ipython3",
   "version": "3.12.2"
  }
 },
 "nbformat": 4,
 "nbformat_minor": 2
}
