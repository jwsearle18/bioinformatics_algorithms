{
 "cells": [
  {
   "cell_type": "code",
   "execution_count": 1,
   "metadata": {},
   "outputs": [],
   "source": [
    "import sys\n",
    "from typing import List, Dict, Iterable, Tuple"
   ]
  },
  {
   "cell_type": "code",
   "execution_count": 3,
   "metadata": {},
   "outputs": [
    {
     "name": "stdout",
     "output_type": "stream",
     "text": [
      "[(0, 1, 'A'), (0, 7, 'G'), (1, 2, 'T'), (2, 3, 'A'), (2, 6, 'C'), (3, 4, 'G'), (4, 5, 'A'), (7, 8, 'A'), (8, 9, 'T')]\n"
     ]
    }
   ],
   "source": [
    "def trie_construction(patterns: List[str]) -> List[Tuple[int, int, str]]:\n",
    "    trie_dict = {0:{}}\n",
    "    trie = []\n",
    "    nextNode = 0\n",
    "    for pattern in patterns:\n",
    "        currentNode = 0\n",
    "        for i in range(len(pattern)):\n",
    "            currentNuc = pattern[i]\n",
    "            if currentNuc in trie_dict[currentNode]:\n",
    "                currentNode = trie_dict[currentNode][currentNuc]\n",
    "\n",
    "            else:\n",
    "                nextNode += 1\n",
    "                trie_dict[currentNode][currentNuc] = nextNode\n",
    "                trie_dict[nextNode] = {}\n",
    "                trie.append((currentNode, nextNode, currentNuc))\n",
    "                currentNode = nextNode\n",
    "    \n",
    "    return sorted(trie, key = lambda x: x[0])\n",
    "\n",
    "patterns = ['ATAGA', 'ATC', 'GAT']\n",
    "print(trie_construction(patterns))"
   ]
  },
  {
   "cell_type": "code",
   "execution_count": 13,
   "metadata": {},
   "outputs": [
    {
     "name": "stdout",
     "output_type": "stream",
     "text": [
      "[15, 14, 0, 1, 12, 6, 4, 2, 8, 13, 3, 7, 9, 10, 11, 5]\n"
     ]
    }
   ],
   "source": [
    "\n",
    "def suffix_array(text: str) -> List[int]:\n",
    "    return sorted(range(len(text)), key = lambda i: text[i:])\n",
    "\n",
    "seq = \"AACGATAGCGGTAGA$\"\n",
    "print(suffix_array(seq))"
   ]
  },
  {
   "cell_type": "code",
   "execution_count": 13,
   "metadata": {},
   "outputs": [
    {
     "name": "stdout",
     "output_type": "stream",
     "text": [
      "ACTGGCT$TGCGGC\n"
     ]
    }
   ],
   "source": [
    "def burrows_wheeler_transform(text: str) -> str:\n",
    "    suffixes = []\n",
    "    transform = \"\"\n",
    "    for i in range(len(text)):\n",
    "        suffixes.append(text[i:] + text[:i])\n",
    "    suffixes = sorted(suffixes)\n",
    "    for suffix in suffixes:\n",
    "        transform += suffix[-1]\n",
    "    return transform\n",
    "\n",
    "print(burrows_wheeler_transform(\"GCGTGCCTGGTCA$\"))"
   ]
  },
  {
   "cell_type": "code",
   "execution_count": 34,
   "metadata": {},
   "outputs": [
    {
     "name": "stdout",
     "output_type": "stream",
     "text": [
      "TACATCACGT$\n"
     ]
    }
   ],
   "source": [
    "def create_occurance_list(text: str) -> List[Tuple[str, int]]:\n",
    "    occurance_list = []\n",
    "    char_occurances = {}\n",
    "    for char in text:\n",
    "        if char not in char_occurances:\n",
    "            char_occurances[char] = 1\n",
    "        else:\n",
    "            char_occurances[char] += 1\n",
    "        num_occurance = char_occurances[char]\n",
    "        occurance_list.append((char, num_occurance))\n",
    "    return occurance_list\n",
    "\n",
    "def inverse_burrows_wheeler_transform(transform: str) -> str:\n",
    "    inverse = \"\"\n",
    "    last = transform\n",
    "    first = ''.join(sorted(transform))\n",
    "    first_list = create_occurance_list(first)\n",
    "    last_list = create_occurance_list(last)\n",
    "    current_item = ('$', 1)\n",
    "    while len(inverse) < len(transform):\n",
    "        for i in range(len(first_list)):\n",
    "            if first_list[i] == current_item:\n",
    "                inverse = current_item[0] + inverse\n",
    "                current_item = last_list[i]\n",
    "    return inverse\n",
    "\n",
    "\n",
    "print(inverse_burrows_wheeler_transform(\"TTCCTAACG$A\"))"
   ]
  },
  {
   "cell_type": "code",
   "execution_count": 45,
   "metadata": {},
   "outputs": [
    {
     "name": "stdout",
     "output_type": "stream",
     "text": [
      "[2, 1, 1, 0, 1]\n"
     ]
    }
   ],
   "source": [
    "def create_occurance_list(text: str) -> List[Tuple[str, int]]:\n",
    "    occurance_list = []\n",
    "    char_occurances = {}\n",
    "    for char in text:\n",
    "        if char not in char_occurances:\n",
    "            char_occurances[char] = 1\n",
    "        else:\n",
    "            char_occurances[char] += 1\n",
    "        num_occurance = char_occurances[char]\n",
    "        occurance_list.append((char, num_occurance))\n",
    "    return occurance_list\n",
    "\n",
    "def create_last_to_first(first: List, last: List) -> List[int]:\n",
    "    last_to_first = []\n",
    "    first_index_dict = {}\n",
    "    for i in range(len(first)):\n",
    "        first_index_dict[first[i]] = i\n",
    "    for item in last:\n",
    "        last_to_first.append(first_index_dict[item])\n",
    "    return last_to_first\n",
    "\n",
    "\n",
    "def bw_matching(bwt: str, patterns: List[str]) -> List[int]:\n",
    "    bw_matches = []\n",
    "    last = bwt\n",
    "    first = ''.join(sorted(bwt))\n",
    "    first_list = create_occurance_list(first)\n",
    "    last_list = create_occurance_list(last)\n",
    "    last_to_first = create_last_to_first(first_list, last_list)\n",
    "    for pattern in patterns:\n",
    "        top = 0\n",
    "        bottom = len(last) - 1\n",
    "        while top <= bottom:\n",
    "            if pattern:\n",
    "                symbol = pattern[-1]\n",
    "                pattern = pattern[:-1]\n",
    "                section = last[top:bottom+1]\n",
    "                if symbol in section:\n",
    "                    for i in range(len(section)):\n",
    "                        if section[i] == symbol:\n",
    "                            top_index = top + i\n",
    "                            break\n",
    "                    for i in range(len(section) -1, -1, -1):\n",
    "                        if section[i] == symbol:\n",
    "                            bottom_index = top + i\n",
    "                            break\n",
    "                    top = last_to_first[top_index]\n",
    "                    bottom = last_to_first[bottom_index]\n",
    "                else:\n",
    "                    bw_matches.append(0)\n",
    "                    break\n",
    "            else:\n",
    "                bw_matches.append(bottom-top+1)\n",
    "                break\n",
    "    return bw_matches\n",
    "\n",
    "\n",
    "\n",
    "bwt = \"TCCTCTATGAGATCCTATTCTATGAAACCTTCA$GACCAAAATTCTCCGGC\"\n",
    "patterns = ['CCT', 'CAC', 'GAG', 'CAG', 'ATC']\n",
    "print(bw_matching(bwt, patterns))"
   ]
  },
  {
   "cell_type": "code",
   "execution_count": null,
   "metadata": {},
   "outputs": [
    {
     "name": "stdout",
     "output_type": "stream",
     "text": [
      "\n"
     ]
    }
   ],
   "source": [
    "def better_bw_matching(bwt: str, patterns: List[str]) -> List[int]:\n",
    "    first = list(bwt)\n",
    "    first.sort()\n",
    "    count = get_count(bwt)\n",
    "    \n",
    "    matches = []\n",
    "    for pattern in patterns:\n",
    "        top = 0\n",
    "        bottom = len(bwt) - 1\n",
    "        while top <= bottom:\n",
    "            if pattern != \"\":\n",
    "                curr_symbol = pattern[-1]\n",
    "                pattern = pattern[:-1]\n",
    "                bwt_i = [j for j in range(top, bottom+1) if bwt[j] == curr_symbol]\n",
    "                if len(bwt_i) > 0:\n",
    "                    top = first.index(curr_symbol) + count[curr_symbol][top]\n",
    "                    bottom = first.index(curr_symbol) + count[curr_symbol][bottom + 1] - 1\n",
    "                else:\n",
    "                    matches.append(0)\n",
    "                    break\n",
    "            else:\n",
    "                matches.append(bottom - top + 1)\n",
    "                break\n",
    "    return matches\n",
    "\n",
    "def get_count(bwt):\n",
    "    chars = {}\n",
    "    i = 1\n",
    "    for char in bwt:\n",
    "        if char not in chars:\n",
    "            chars[char] = [0] * (len(bwt) + 1)\n",
    "        for j in range(i, len(bwt) + 1):\n",
    "            chars[char][j] += 1\n",
    "        i += 1\n",
    "    return chars"
   ]
  },
  {
   "cell_type": "code",
   "execution_count": null,
   "metadata": {},
   "outputs": [],
   "source": [
    "def multiple_pattern_matching(text: str, patterns: List[str]) -> Dict[str, List[int]]:\n",
    "    \"\"\"\n",
    "    Find all starting positions in text where each string from patterns appears as a substring.\n",
    "    \"\"\"\n",
    "    pass"
   ]
  }
 ],
 "metadata": {
  "kernelspec": {
   "display_name": "base",
   "language": "python",
   "name": "python3"
  },
  "language_info": {
   "codemirror_mode": {
    "name": "ipython",
    "version": 3
   },
   "file_extension": ".py",
   "mimetype": "text/x-python",
   "name": "python",
   "nbconvert_exporter": "python",
   "pygments_lexer": "ipython3",
   "version": "3.12.2"
  }
 },
 "nbformat": 4,
 "nbformat_minor": 2
}
